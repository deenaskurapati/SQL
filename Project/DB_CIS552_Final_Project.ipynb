{
 "cells": [
  {
   "cell_type": "code",
   "execution_count": 9,
   "id": "e2f3e4bf-2195-42c8-b273-6a562eeb6e68",
   "metadata": {},
   "outputs": [],
   "source": [
    "import mysql.connector\n",
    "mydb = mysql.connector.connect(\n",
    "  host=\"localhost\",\n",
    "  user=\"final_user\",\n",
    "  password=\"pass\",\n",
    "  database=\"DB_CIS552_Final_Project\"\n",
    ")"
   ]
  },
  {
   "cell_type": "code",
   "execution_count": 27,
   "id": "b57ce1f2-bc23-48c2-8161-73e56058f866",
   "metadata": {},
   "outputs": [
    {
     "name": "stdout",
     "output_type": "stream",
     "text": [
      "('Credit', 2)\n",
      "('Cash', 3)\n",
      "('Debit', 1)\n"
     ]
    }
   ],
   "source": [
    "  #Query to show number of customers for each payment_type\n",
    "\n",
    "  sqlquery1= \"SELECT payment_type,count(invoice_id) As 'number of customers'  from invoice group by payment_type\"\n",
    "  mycursor=mydb.cursor()\n",
    "  mycursor.execute(sqlquery1)\n",
    "  resultquery = mycursor.fetchall()\n",
    "\n",
    "  for x in resultquery:\n",
    "    print(x)"
   ]
  },
  {
   "cell_type": "code",
   "execution_count": 26,
   "id": "45fb55bc-95a0-45e3-9a07-963232d6c1d9",
   "metadata": {},
   "outputs": [
    {
     "name": "stdout",
     "output_type": "stream",
     "text": [
      "('Kezia Lankapalli', 2)\n"
     ]
    }
   ],
   "source": [
    "#Query to select the customer name that has ordered the most in the last week\n",
    "\n",
    "sqlquery2= \"select concat(cus_firstname,' ',cus_lastname) as Customer,orders_count from (SELECT cus_firstname,cus_lastname,count(distinct orders.order_id) as orders_count,rank() over (order by count(distinct orders.order_id) desc) Customer_Rank from customer join orders ON customer.cus_id=orders.cus_id join invoice on orders.order_id=invoice.order_id WHERE order_date >= now()-interval 7 day group by customer.cus_id order by orders_count desc) tableh where Customer_Rank=1\"\n",
    "mycursor=mydb.cursor()\n",
    "mycursor.execute(sqlquery2)\n",
    "\n",
    "resultquery = mycursor.fetchall()\n",
    "\n",
    "for x in resultquery:\n",
    "    print(x)"
   ]
  },
  {
   "cell_type": "code",
   "execution_count": 29,
   "id": "52763ccf-89cd-4300-9a09-d0e9e46e4ab2",
   "metadata": {},
   "outputs": [
    {
     "name": "stdout",
     "output_type": "stream",
     "text": [
      "('Makau', 'Veg Pizza', Decimal('5.000000'))\n",
      "('Makau', 'Pad Thai', Decimal('5.000000'))\n",
      "('Spicy Venue', 'Chicken Lollipop', Decimal('4.800000'))\n",
      "('Telangana Spice', 'Pepper Chicken', Decimal('4.500000'))\n"
     ]
    }
   ],
   "source": [
    "#Query to show the highest rated item in each restaurant\n",
    "sqlquery3= \"select res_name,menu_item_desc,Avg_Rating from(SELECT R.res_name,Cuisine.menu_item_desc,AVG(Ra.menu_item_rating) Avg_Rating,rank() over (partition by R.res_name order by AVG(Ra.menu_item_rating) desc) as 'Rank_Item' FROM RESTAURANT R JOIN ORDERS ON R.res_id=orders.res_id  JOIN RATING Ra ON orders.order_id=Ra.order_id and orders.menu_item_id=Ra.menu_item_id JOIN Menu ON Orders.menu_item_id=Menu.menu_item_id and Orders.res_id=Menu.res_id JOIN Cuisine ON Menu.menu_item_id=Cuisine.menu_item_id group by R.res_name,Cuisine.menu_item_desc) tabled where Rank_Item=1;\"\n",
    "mycursor=mydb.cursor()\n",
    "mycursor.execute(sqlquery3)\n",
    "resultquery = mycursor.fetchall()\n",
    "for x in resultquery:\n",
    "    print(x)"
   ]
  },
  {
   "cell_type": "code",
   "execution_count": null,
   "id": "e64c672a-0540-43a2-b7ab-83216a369ddd",
   "metadata": {},
   "outputs": [],
   "source": []
  }
 ],
 "metadata": {
  "kernelspec": {
   "display_name": "Python 3 (ipykernel)",
   "language": "python",
   "name": "python3"
  },
  "language_info": {
   "codemirror_mode": {
    "name": "ipython",
    "version": 3
   },
   "file_extension": ".py",
   "mimetype": "text/x-python",
   "name": "python",
   "nbconvert_exporter": "python",
   "pygments_lexer": "ipython3",
   "version": "3.9.12"
  }
 },
 "nbformat": 4,
 "nbformat_minor": 5
}
